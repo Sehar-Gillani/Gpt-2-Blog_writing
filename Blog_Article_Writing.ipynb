{
  "nbformat": 4,
  "nbformat_minor": 0,
  "metadata": {
    "colab": {
      "provenance": [],
      "authorship_tag": "ABX9TyMBeF5I279h39j0p/bXOXs4",
      "include_colab_link": true
    },
    "kernelspec": {
      "name": "python3",
      "display_name": "Python 3"
    },
    "language_info": {
      "name": "python"
    }
  },
  "cells": [
    {
      "cell_type": "markdown",
      "metadata": {
        "id": "view-in-github",
        "colab_type": "text"
      },
      "source": [
        "<a href=\"https://colab.research.google.com/github/Sehar-Gillani/Gpt-2-Blog_writing/blob/main/Blog_Article_Writing.ipynb\" target=\"_parent\"><img src=\"https://colab.research.google.com/assets/colab-badge.svg\" alt=\"Open In Colab\"/></a>"
      ]
    },
    {
      "cell_type": "code",
      "execution_count": null,
      "metadata": {
        "colab": {
          "base_uri": "https://localhost:8080/"
        },
        "id": "Jn4IJerd49jo",
        "outputId": "e7cc08f2-555d-4d44-a888-e6e8bd5e713a"
      },
      "outputs": [
        {
          "output_type": "stream",
          "name": "stdout",
          "text": [
            "Looking in indexes: https://pypi.org/simple, https://us-python.pkg.dev/colab-wheels/public/simple/\n",
            "Collecting transformers\n",
            "  Downloading transformers-4.22.1-py3-none-any.whl (4.9 MB)\n",
            "\u001b[K     |████████████████████████████████| 4.9 MB 3.9 MB/s \n",
            "\u001b[?25hRequirement already satisfied: importlib-metadata in /usr/local/lib/python3.7/dist-packages (from transformers) (4.12.0)\n",
            "Requirement already satisfied: regex!=2019.12.17 in /usr/local/lib/python3.7/dist-packages (from transformers) (2022.6.2)\n",
            "Requirement already satisfied: packaging>=20.0 in /usr/local/lib/python3.7/dist-packages (from transformers) (21.3)\n",
            "Requirement already satisfied: pyyaml>=5.1 in /usr/local/lib/python3.7/dist-packages (from transformers) (6.0)\n",
            "Requirement already satisfied: numpy>=1.17 in /usr/local/lib/python3.7/dist-packages (from transformers) (1.21.6)\n",
            "Requirement already satisfied: filelock in /usr/local/lib/python3.7/dist-packages (from transformers) (3.8.0)\n",
            "Collecting tokenizers!=0.11.3,<0.13,>=0.11.1\n",
            "  Downloading tokenizers-0.12.1-cp37-cp37m-manylinux_2_12_x86_64.manylinux2010_x86_64.whl (6.6 MB)\n",
            "\u001b[K     |████████████████████████████████| 6.6 MB 49.0 MB/s \n",
            "\u001b[?25hRequirement already satisfied: requests in /usr/local/lib/python3.7/dist-packages (from transformers) (2.23.0)\n",
            "Requirement already satisfied: tqdm>=4.27 in /usr/local/lib/python3.7/dist-packages (from transformers) (4.64.1)\n",
            "Collecting huggingface-hub<1.0,>=0.9.0\n",
            "  Downloading huggingface_hub-0.9.1-py3-none-any.whl (120 kB)\n",
            "\u001b[K     |████████████████████████████████| 120 kB 68.6 MB/s \n",
            "\u001b[?25hRequirement already satisfied: typing-extensions>=3.7.4.3 in /usr/local/lib/python3.7/dist-packages (from huggingface-hub<1.0,>=0.9.0->transformers) (4.1.1)\n",
            "Requirement already satisfied: pyparsing!=3.0.5,>=2.0.2 in /usr/local/lib/python3.7/dist-packages (from packaging>=20.0->transformers) (3.0.9)\n",
            "Requirement already satisfied: zipp>=0.5 in /usr/local/lib/python3.7/dist-packages (from importlib-metadata->transformers) (3.8.1)\n",
            "Requirement already satisfied: urllib3!=1.25.0,!=1.25.1,<1.26,>=1.21.1 in /usr/local/lib/python3.7/dist-packages (from requests->transformers) (1.24.3)\n",
            "Requirement already satisfied: idna<3,>=2.5 in /usr/local/lib/python3.7/dist-packages (from requests->transformers) (2.10)\n",
            "Requirement already satisfied: chardet<4,>=3.0.2 in /usr/local/lib/python3.7/dist-packages (from requests->transformers) (3.0.4)\n",
            "Requirement already satisfied: certifi>=2017.4.17 in /usr/local/lib/python3.7/dist-packages (from requests->transformers) (2022.6.15)\n",
            "Installing collected packages: tokenizers, huggingface-hub, transformers\n",
            "Successfully installed huggingface-hub-0.9.1 tokenizers-0.12.1 transformers-4.22.1\n"
          ]
        }
      ],
      "source": [
        "!pip install transformers"
      ]
    },
    {
      "cell_type": "code",
      "source": [
        "from transformers import pipeline"
      ],
      "metadata": {
        "id": "o0ZFOvd45edI"
      },
      "execution_count": null,
      "outputs": []
    },
    {
      "cell_type": "code",
      "source": [
        "generator = pipeline(task = 'text-generation', model='gpt2')"
      ],
      "metadata": {
        "id": "w3iAq28R5iO-"
      },
      "execution_count": null,
      "outputs": []
    },
    {
      "cell_type": "code",
      "source": [
        "generator(\"My name is Sehar Rahim, and I am a publice health researcher in Pakistan\", max_length= 300, num_return_sequences=3)"
      ],
      "metadata": {
        "colab": {
          "base_uri": "https://localhost:8080/"
        },
        "id": "Zc30TUZu6Iyp",
        "outputId": "76be9bf5-9716-4d17-e237-4c1f56bfc3c7"
      },
      "execution_count": null,
      "outputs": [
        {
          "output_type": "stream",
          "name": "stderr",
          "text": [
            "Setting `pad_token_id` to `eos_token_id`:50256 for open-end generation.\n"
          ]
        },
        {
          "output_type": "execute_result",
          "data": {
            "text/plain": [
              "[{'generated_text': 'My name is Sehar Rahim, and I am a publice health researcher in Pakistan. I am not interested in money, money, money, money… [the idea] that every nation in this world is so prosperous, but if you allow people to take a chance, then it\\'s going to turn into something big. I don\\'t know what kind of a economy this is.\"\\n\\nThe US-educated Pakistanis might have been horrified to hear about Pakistan\\'s latest attack on the US embassy in Washington, DC, but after the recent bomb blast at the White House, the number of those targeted in Pakistan has doubled. During the recent attack in Dhaka, there were at least 16 blasts and at least 17 deaths, with six being linked with the Islamic State (IS).\\n\\nIt seems inevitable that a more coordinated attack against the US Embassy would lead to heightened security and diplomatic pressure at home, and increase the likelihood of the Pakistanis, who are under pressure from political, economic, and social elites and their family members to go to work, working, and living in an American-style community more suited to the US.\\n\\nWhile many in America would say it\\'s hard to imagine that a single attack across all the United States in a given year is as large as the current one at a Pakistani state airport killing 25 people: There are two or three different interpretations – though, given that the US-Pakistani relationship is still in its infancy, I\\'m hopeful the'},\n",
              " {'generated_text': 'My name is Sehar Rahim, and I am a publice health researcher in Pakistan and India. My family settled in the Karachi suburb of Faisalabad and I lived in Mumbai for the past six years. My first question when joining the team when I was about 3-4 years old was \"Who is your father?\" but before I could ask that I asked, \"Who is your uncle?\" he said.\\n\\n\\nMy uncle is my cousin Khyber Pakhtunkhwa, my grandfather\\'s uncle is Shireen Nage.\\n\\nMy father is my cousin Khyber Pakhtunkhwa who is from Jammu and Kashmir; my cousins are Shireen Nage and Shireen Khyber Pakhtunkhwa\\n\\nThe next question when I was in my sixth year was, \"When will I have to go to school?\" but then my answer was very simple: I want to work in my neighbourhood which is a hotbed for children. I will also have to see if my father is doing well and is trying to come to work and help my niece and nephews. I will also go to the library when I can.\\n\\nWe also had a great experience in the school building where we started talking about what we wanted to do in the classroom. The children wanted more, but there weren\\'t enough. The teachers had to take the work-to-work ratio into their own hands. We had to go to'},\n",
              " {'generated_text': 'My name is Sehar Rahim, and I am a publice health researcher in Pakistan. I am not afraid to discuss my research with you. So come with me and we can talk. \"\\n\\n\"Thank you for coming and sharing our work. We will continue to do what we have been doing for many years and will always be here. We should be able to do what is on our minds - and we understand that this may prove difficult or that my work may not have been in line with the needs of the community.\" He then spoke about her work on this day of her life.\\n\\nThe main subject of that comment, it can be read from the transcript as:\\n\\nMr. Rumi: Well, you know, I\\'ll start with a few examples about the work of those who were trying to reach out about women\\'s issues and about the importance of education and gender equality. I would like to discuss a few examples of that work in one of our books, which you can read here. We\\'ve called our men and women, we\\'ve called them women of colour, and we\\'ve called them feminists and we\\'ve called them women. Let me say a little bit more about women\\'s issues. I know a lot of young women come from families where their families are poor and some of the worst conditions in the world. They are left to suffer because they have inadequate educational opportunities. Many of them have never made it to school in the first place. A'}]"
            ]
          },
          "metadata": {},
          "execution_count": 7
        }
      ]
    },
    {
      "cell_type": "code",
      "source": [],
      "metadata": {
        "id": "Q-y98TOh6ziN"
      },
      "execution_count": null,
      "outputs": []
    }
  ]
}